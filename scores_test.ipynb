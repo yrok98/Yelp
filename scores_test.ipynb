{
 "cells": [
  {
   "cell_type": "raw",
   "id": "ce1fcbb7",
   "metadata": {},
   "source": [
    "!pip install py2neo"
   ]
  },
  {
   "cell_type": "code",
   "execution_count": 2,
   "id": "18c75240",
   "metadata": {},
   "outputs": [],
   "source": [
    "from py2neo import Graph\n",
    "\n",
    "#Connection to neo4j db\n",
    "SERVER_ADRESSE = \"bolt://localhost:7687\"\n",
    "SERVER_AUTH = (\"neo4j\", \"bioinfo\")\n",
    "graph = Graph(SERVER_ADRESSE, auth=SERVER_AUTH)"
   ]
  },
  {
   "cell_type": "raw",
   "id": "fdb2f898",
   "metadata": {},
   "source": [
    "q = \"match (u:User) return u.name as username\"\n",
    "res = graph.run(q).to_table()\n",
    "for record in res :\n",
    "    print(record[0])"
   ]
  },
  {
   "cell_type": "markdown",
   "id": "43695922",
   "metadata": {},
   "source": [
    "# score social immediat"
   ]
  },
  {
   "cell_type": "code",
   "execution_count": null,
   "id": "817d84b6",
   "metadata": {},
   "outputs": [],
   "source": [
    "user = 'MATCH p=(u1:User)-[r:IS_FRIEND_WITH]->(u2:User) RETURN u2;'\n",
    "\n"
   ]
  }
 ],
 "metadata": {
  "kernelspec": {
   "display_name": "Python 3 (ipykernel)",
   "language": "python",
   "name": "python3"
  },
  "language_info": {
   "codemirror_mode": {
    "name": "ipython",
    "version": 3
   },
   "file_extension": ".py",
   "mimetype": "text/x-python",
   "name": "python",
   "nbconvert_exporter": "python",
   "pygments_lexer": "ipython3",
   "version": "3.9.12"
  }
 },
 "nbformat": 4,
 "nbformat_minor": 5
}
