{
 "cells": [
  {
   "cell_type": "code",
   "execution_count": 2,
   "id": "a056958a",
   "metadata": {},
   "outputs": [
    {
     "name": "stdout",
     "output_type": "stream",
     "text": [
      "Collecting py2neo\n",
      "  Using cached py2neo-2021.2.3-py2.py3-none-any.whl (177 kB)\n",
      "Collecting pansi>=2020.7.3\n",
      "  Using cached pansi-2020.7.3-py2.py3-none-any.whl (10 kB)\n",
      "Requirement already satisfied: packaging in c:\\users\\koryj\\anaconda3\\lib\\site-packages (from py2neo) (21.3)\n",
      "Requirement already satisfied: six>=1.15.0 in c:\\users\\koryj\\anaconda3\\lib\\site-packages (from py2neo) (1.16.0)\n",
      "Collecting interchange~=2021.0.4\n",
      "  Using cached interchange-2021.0.4-py2.py3-none-any.whl (28 kB)\n",
      "Collecting monotonic\n",
      "  Using cached monotonic-1.6-py2.py3-none-any.whl (8.2 kB)\n",
      "Requirement already satisfied: certifi in c:\\users\\koryj\\anaconda3\\lib\\site-packages (from py2neo) (2021.10.8)\n",
      "Requirement already satisfied: urllib3 in c:\\users\\koryj\\anaconda3\\lib\\site-packages (from py2neo) (1.26.9)\n",
      "Requirement already satisfied: pygments>=2.0.0 in c:\\users\\koryj\\anaconda3\\lib\\site-packages (from py2neo) (2.11.2)\n",
      "Requirement already satisfied: pytz in c:\\users\\koryj\\anaconda3\\lib\\site-packages (from interchange~=2021.0.4->py2neo) (2021.3)\n",
      "Requirement already satisfied: pyparsing!=3.0.5,>=2.0.2 in c:\\users\\koryj\\anaconda3\\lib\\site-packages (from packaging->py2neo) (3.0.4)\n",
      "Installing collected packages: pansi, monotonic, interchange, py2neo\n",
      "Successfully installed interchange-2021.0.4 monotonic-1.6 pansi-2020.7.3 py2neo-2021.2.3\n"
     ]
    }
   ],
   "source": [
    "!pip install py2neo"
   ]
  },
  {
   "cell_type": "code",
   "execution_count": 3,
   "id": "21b34963",
   "metadata": {},
   "outputs": [],
   "source": [
    "from py2neo import Graph\n",
    "\n",
    "#Connection to neo4j db\n",
    "SERVER_ADRESSE = \"bolt://localhost:7687\"\n",
    "SERVER_AUTH = (\"neo4j\", \"bioinfo\")\n",
    "graph = Graph(SERVER_ADRESSE, auth=SERVER_AUTH)"
   ]
  },
  {
   "cell_type": "code",
   "execution_count": null,
   "id": "92472186",
   "metadata": {},
   "outputs": [],
   "source": [
    "q = \"match (u:User) return u.name as username\"\n",
    "res = graph.run(q).to_table()\n",
    "for record in res :\n",
    "    print(record[0])"
   ]
  },
  {
   "cell_type": "code",
   "execution_count": null,
   "id": "48cbdf6a",
   "metadata": {},
   "outputs": [],
   "source": []
  }
 ],
 "metadata": {
  "kernelspec": {
   "display_name": "Python 3 (ipykernel)",
   "language": "python",
   "name": "python3"
  },
  "language_info": {
   "codemirror_mode": {
    "name": "ipython",
    "version": 3
   },
   "file_extension": ".py",
   "mimetype": "text/x-python",
   "name": "python",
   "nbconvert_exporter": "python",
   "pygments_lexer": "ipython3",
   "version": "3.9.12"
  }
 },
 "nbformat": 4,
 "nbformat_minor": 5
}
